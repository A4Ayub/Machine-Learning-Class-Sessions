{
 "cells": [
  {
   "cell_type": "markdown",
   "metadata": {},
   "source": [
    "# Sentiment Analysis Classifier\n",
    "by A4Ayub Notebooks (http://www.a4ayub.me)"
   ]
  },
  {
   "cell_type": "markdown",
   "metadata": {},
   "source": [
    "### Import Libraries"
   ]
  },
  {
   "cell_type": "code",
   "execution_count": 1,
   "metadata": {},
   "outputs": [],
   "source": [
    "# Standard Imports\n",
    "import pandas as pd\n",
    "import numpy as np\n",
    "import os \n",
    "import json\n",
    "import warnings\n",
    "\n",
    "# Data Cleaning Imports\n",
    "from bs4 import BeautifulSoup\n",
    "import re\n",
    "\n",
    "# Modeling Pipeline\n",
    "from sklearn.feature_extraction.text import TfidfVectorizer\n",
    ", CountVectorizer, TfidfTransformer\n",
    "from sklearn.pipeline import Pipeline\n",
    "from sklearn.multiclass import OneVsRestClassifier\n",
    "\n",
    "# Algorithms to be used\n",
    "from sklearn.svm import LinearSVC\n",
    "\n",
    "# Testing\n",
    "from sklearn.model_selection import train_test_split\n",
    "\n",
    "# Metrics\n",
    "from sklearn.metrics import classification_report,accuracy_score,precision_score, recall_score, f1_score, confusion_matrix\n"
   ]
  },
  {
   "cell_type": "code",
   "execution_count": 2,
   "metadata": {},
   "outputs": [],
   "source": [
    "# Import the data\n",
    "data_df = pd.read_csv(\"datasets/sentiments.csv\",engine=\"python\");"
   ]
  },
  {
   "cell_type": "code",
   "execution_count": 3,
   "metadata": {},
   "outputs": [
    {
     "data": {
      "text/html": [
       "<div>\n",
       "<style scoped>\n",
       "    .dataframe tbody tr th:only-of-type {\n",
       "        vertical-align: middle;\n",
       "    }\n",
       "\n",
       "    .dataframe tbody tr th {\n",
       "        vertical-align: top;\n",
       "    }\n",
       "\n",
       "    .dataframe thead th {\n",
       "        text-align: right;\n",
       "    }\n",
       "</style>\n",
       "<table border=\"1\" class=\"dataframe\">\n",
       "  <thead>\n",
       "    <tr style=\"text-align: right;\">\n",
       "      <th></th>\n",
       "      <th>ï»¿Sentiment</th>\n",
       "      <th>SentimentText</th>\n",
       "      <th>Unnamed: 2</th>\n",
       "    </tr>\n",
       "  </thead>\n",
       "  <tbody>\n",
       "    <tr>\n",
       "      <th>7085</th>\n",
       "      <td>0</td>\n",
       "      <td>#hosteurope offline</td>\n",
       "      <td>NaN</td>\n",
       "    </tr>\n",
       "    <tr>\n",
       "      <th>34795</th>\n",
       "      <td>0</td>\n",
       "      <td>@ALOliver it's apparently its national i'm a p...</td>\n",
       "      <td>NaN</td>\n",
       "    </tr>\n",
       "    <tr>\n",
       "      <th>27160</th>\n",
       "      <td>1</td>\n",
       "      <td>@aarongillespie i am determined to meet you at...</td>\n",
       "      <td>NaN</td>\n",
       "    </tr>\n",
       "    <tr>\n",
       "      <th>8918</th>\n",
       "      <td>1</td>\n",
       "      <td>#3wordsaftersex &amp;quot;my husband's home!&amp;quot;...</td>\n",
       "      <td>NaN</td>\n",
       "    </tr>\n",
       "    <tr>\n",
       "      <th>11848</th>\n",
       "      <td>0</td>\n",
       "      <td>*almost* breathing well enough to go for a run...</td>\n",
       "      <td>NaN</td>\n",
       "    </tr>\n",
       "  </tbody>\n",
       "</table>\n",
       "</div>"
      ],
      "text/plain": [
       "       ï»¿Sentiment                                      SentimentText  \\\n",
       "7085              0                               #hosteurope offline    \n",
       "34795             0  @ALOliver it's apparently its national i'm a p...   \n",
       "27160             1  @aarongillespie i am determined to meet you at...   \n",
       "8918              1  #3wordsaftersex &quot;my husband's home!&quot;...   \n",
       "11848             0  *almost* breathing well enough to go for a run...   \n",
       "\n",
       "      Unnamed: 2  \n",
       "7085         NaN  \n",
       "34795        NaN  \n",
       "27160        NaN  \n",
       "8918         NaN  \n",
       "11848        NaN  "
      ]
     },
     "execution_count": 3,
     "metadata": {},
     "output_type": "execute_result"
    }
   ],
   "source": [
    "# Explore the data\n",
    "data_df.sample(5)"
   ]
  },
  {
   "cell_type": "code",
   "execution_count": 4,
   "metadata": {},
   "outputs": [
    {
     "name": "stdout",
     "output_type": "stream",
     "text": [
      "<class 'pandas.core.frame.DataFrame'>\n",
      "RangeIndex: 39894 entries, 0 to 39893\n",
      "Data columns (total 3 columns):\n",
      "ï»¿Sentiment     39894 non-null int64\n",
      "SentimentText    39894 non-null object\n",
      "Unnamed: 2       11 non-null object\n",
      "dtypes: int64(1), object(2)\n",
      "memory usage: 935.1+ KB\n"
     ]
    }
   ],
   "source": [
    "# check the data types\n",
    "data_df.info()"
   ]
  },
  {
   "cell_type": "code",
   "execution_count": 5,
   "metadata": {},
   "outputs": [],
   "source": [
    "# rename columns\n",
    "column_dict = {\"ï»¿Sentiment\":\"sentiment\",\"SentimentText\":\"message\"}\n",
    "data_df.rename(columns=column_dict,inplace=True)"
   ]
  },
  {
   "cell_type": "code",
   "execution_count": 6,
   "metadata": {},
   "outputs": [
    {
     "data": {
      "text/html": [
       "<div>\n",
       "<style scoped>\n",
       "    .dataframe tbody tr th:only-of-type {\n",
       "        vertical-align: middle;\n",
       "    }\n",
       "\n",
       "    .dataframe tbody tr th {\n",
       "        vertical-align: top;\n",
       "    }\n",
       "\n",
       "    .dataframe thead th {\n",
       "        text-align: right;\n",
       "    }\n",
       "</style>\n",
       "<table border=\"1\" class=\"dataframe\">\n",
       "  <thead>\n",
       "    <tr style=\"text-align: right;\">\n",
       "      <th></th>\n",
       "      <th>sentiment</th>\n",
       "      <th>message</th>\n",
       "    </tr>\n",
       "  </thead>\n",
       "  <tbody>\n",
       "    <tr>\n",
       "      <th>26473</th>\n",
       "      <td>0</td>\n",
       "      <td>@a_lecklr I wanna be there! Boo!</td>\n",
       "    </tr>\n",
       "    <tr>\n",
       "      <th>33845</th>\n",
       "      <td>0</td>\n",
       "      <td>@allegra0 what?</td>\n",
       "    </tr>\n",
       "    <tr>\n",
       "      <th>39760</th>\n",
       "      <td>1</td>\n",
       "      <td>@anddog1 why limit your story to 140 ch. Tell ...</td>\n",
       "    </tr>\n",
       "    <tr>\n",
       "      <th>31650</th>\n",
       "      <td>0</td>\n",
       "      <td>@Adrienne_Bailon Aww no! Thats not good</td>\n",
       "    </tr>\n",
       "    <tr>\n",
       "      <th>30471</th>\n",
       "      <td>1</td>\n",
       "      <td>@AdiBecic congrats</td>\n",
       "    </tr>\n",
       "  </tbody>\n",
       "</table>\n",
       "</div>"
      ],
      "text/plain": [
       "       sentiment                                            message\n",
       "26473          0                  @a_lecklr I wanna be there! Boo! \n",
       "33845          0                                   @allegra0 what? \n",
       "39760          1  @anddog1 why limit your story to 140 ch. Tell ...\n",
       "31650          0           @Adrienne_Bailon Aww no! Thats not good \n",
       "30471          1                                @AdiBecic congrats "
      ]
     },
     "execution_count": 6,
     "metadata": {},
     "output_type": "execute_result"
    }
   ],
   "source": [
    "# confirm the changes and explore sample data\n",
    "data_df = data_df[[\"sentiment\",\"message\"]]\n",
    "data_df.sample(5)"
   ]
  },
  {
   "cell_type": "code",
   "execution_count": 7,
   "metadata": {},
   "outputs": [
    {
     "data": {
      "text/plain": [
       "1    20887\n",
       "0    19007\n",
       "Name: sentiment, dtype: int64"
      ]
     },
     "execution_count": 7,
     "metadata": {},
     "output_type": "execute_result"
    }
   ],
   "source": [
    "# Check proportions\n",
    "data_df[\"sentiment\"].value_counts()"
   ]
  },
  {
   "cell_type": "code",
   "execution_count": 8,
   "metadata": {},
   "outputs": [],
   "source": [
    "# Function to clean data\n",
    "# Perform Data Cleaning on the text\n",
    "def cleaning(message):\n",
    "    import nltk\n",
    "    \n",
    "    # 1. Remove HTML.\n",
    "    html_text = BeautifulSoup(message,\"html.parser\")\n",
    "    .get_text()\n",
    "    \n",
    "    # 2. Remove non-letters.\n",
    "    letters = re.sub(\"[^a-zA-Z]\", \" \", html_text)    \n",
    "    letters = re.sub('[^a-zA-Zа-яА-Я1-9]+', ' ', html_text)\n",
    "    letters = re.sub(' +',' ', html_text)\n",
    "    letters = re.sub(r\"\\n\", \"\", letters)    \n",
    "    letters = re.sub(r\"\\r\", \"\", letters) \n",
    "    letters = re.sub(r\"[0-9]\", \"\", letters)\n",
    "    letters = re.sub(r\"\\'\", \"\", letters)    \n",
    "    letters = re.sub(r\"\\\"\", \"\", letters)  \n",
    "    \n",
    "    # 3. Remove Any Emails that may be present\n",
    "    letters = re.sub('\\S*@\\S*\\s?', '', letters)\n",
    "    \n",
    "    # 4. Remove any newline characters\n",
    "    letters = re.sub('\\s+', ' ', letters)\n",
    "    \n",
    "    # 5. Remove the distracting single quotes\n",
    "    letters = re.sub(r\"\\'\", \"\", letters) \n",
    "        \n",
    "    # 6. Convert to lower case.\n",
    "    letters = letters.lower()\n",
    "    \n",
    "    # 7. Tokenize.\n",
    "    tokens = nltk.word_tokenize(letters)\n",
    "    \n",
    "    # 8. Convert the stopwords list to \"set\" data type.\n",
    "    #stops = set(nltk.corpus.stopwords.words(\"english\"))\n",
    "    \n",
    "    # 9. Remove stop words. \n",
    "    #words = [w for w in tokens if not w in stops]\n",
    "    \n",
    "    # 10. Stemming\n",
    "    #words = [nltk.stem.SnowballStemmer('english').stem(w) for w in words]\n",
    "    \n",
    "    # 11. Join the words back into one string separated by space, and return the result.\n",
    "    return \" \".join(tokens)"
   ]
  },
  {
   "cell_type": "code",
   "execution_count": 9,
   "metadata": {},
   "outputs": [
    {
     "name": "stderr",
     "output_type": "stream",
     "text": [
      "E:\\ProgramData\\Anaconda3\\lib\\site-packages\\bs4\\__init__.py:272: UserWarning: \"b' i just received my G8 viola exam.. and its... well... .. disappointing.. :\\\\..'\" looks like a filename, not markup. You should probably open this file and pass the filehandle into Beautiful Soup.\n",
      "  ' Beautiful Soup.' % markup)\n"
     ]
    },
    {
     "data": {
      "text/html": [
       "<div>\n",
       "<style scoped>\n",
       "    .dataframe tbody tr th:only-of-type {\n",
       "        vertical-align: middle;\n",
       "    }\n",
       "\n",
       "    .dataframe tbody tr th {\n",
       "        vertical-align: top;\n",
       "    }\n",
       "\n",
       "    .dataframe thead th {\n",
       "        text-align: right;\n",
       "    }\n",
       "</style>\n",
       "<table border=\"1\" class=\"dataframe\">\n",
       "  <thead>\n",
       "    <tr style=\"text-align: right;\">\n",
       "      <th></th>\n",
       "      <th>sentiment</th>\n",
       "      <th>message</th>\n",
       "      <th>cleaned_query</th>\n",
       "    </tr>\n",
       "  </thead>\n",
       "  <tbody>\n",
       "    <tr>\n",
       "      <th>29341</th>\n",
       "      <td>0</td>\n",
       "      <td>@actevil if we ever started a band we should'v...</td>\n",
       "      <td>if we ever started a band we shouldve been cal...</td>\n",
       "    </tr>\n",
       "    <tr>\n",
       "      <th>7076</th>\n",
       "      <td>0</td>\n",
       "      <td>#HIN1 #SanLuis streets empty  http://www.oem.c...</td>\n",
       "      <td># hin # sanluis streets empty http : //www.oem...</td>\n",
       "    </tr>\n",
       "    <tr>\n",
       "      <th>8576</th>\n",
       "      <td>0</td>\n",
       "      <td>wants to go on Ajax Experience 2009 http://bi...</td>\n",
       "      <td>wants to go on ajax experience http : //bit.ly...</td>\n",
       "    </tr>\n",
       "    <tr>\n",
       "      <th>15325</th>\n",
       "      <td>0</td>\n",
       "      <td>*hugs* @Searock_  we get moments like that som...</td>\n",
       "      <td>*hugs* we get moments like that sometimes at t...</td>\n",
       "    </tr>\n",
       "    <tr>\n",
       "      <th>24237</th>\n",
       "      <td>0</td>\n",
       "      <td>@21andAMBITIOUS shit tell me the story too! I ...</td>\n",
       "      <td>shit tell me the story too ! i had an outta bo...</td>\n",
       "    </tr>\n",
       "  </tbody>\n",
       "</table>\n",
       "</div>"
      ],
      "text/plain": [
       "       sentiment                                            message  \\\n",
       "29341          0  @actevil if we ever started a band we should'v...   \n",
       "7076           0  #HIN1 #SanLuis streets empty  http://www.oem.c...   \n",
       "8576           0   wants to go on Ajax Experience 2009 http://bi...   \n",
       "15325          0  *hugs* @Searock_  we get moments like that som...   \n",
       "24237          0  @21andAMBITIOUS shit tell me the story too! I ...   \n",
       "\n",
       "                                           cleaned_query  \n",
       "29341  if we ever started a band we shouldve been cal...  \n",
       "7076   # hin # sanluis streets empty http : //www.oem...  \n",
       "8576   wants to go on ajax experience http : //bit.ly...  \n",
       "15325  *hugs* we get moments like that sometimes at t...  \n",
       "24237  shit tell me the story too ! i had an outta bo...  "
      ]
     },
     "execution_count": 9,
     "metadata": {},
     "output_type": "execute_result"
    }
   ],
   "source": [
    "# Perform iterative data cleaning on each of the statements\n",
    "data_df['cleaned_query'] = data_df['message'].apply(cleaning)\n",
    "data_df.sample(5)"
   ]
  },
  {
   "cell_type": "code",
   "execution_count": 10,
   "metadata": {},
   "outputs": [
    {
     "data": {
      "text/html": [
       "<div>\n",
       "<style scoped>\n",
       "    .dataframe tbody tr th:only-of-type {\n",
       "        vertical-align: middle;\n",
       "    }\n",
       "\n",
       "    .dataframe tbody tr th {\n",
       "        vertical-align: top;\n",
       "    }\n",
       "\n",
       "    .dataframe thead th {\n",
       "        text-align: right;\n",
       "    }\n",
       "</style>\n",
       "<table border=\"1\" class=\"dataframe\">\n",
       "  <thead>\n",
       "    <tr style=\"text-align: right;\">\n",
       "      <th></th>\n",
       "      <th>sentiment</th>\n",
       "      <th>message</th>\n",
       "      <th>cleaned_query</th>\n",
       "      <th>sentiment_id</th>\n",
       "    </tr>\n",
       "  </thead>\n",
       "  <tbody>\n",
       "    <tr>\n",
       "      <th>22978</th>\n",
       "      <td>1</td>\n",
       "      <td>@_spell - you can do it! keep on truckin'</td>\n",
       "      <td>- you can do it ! keep on truckin</td>\n",
       "      <td>1</td>\n",
       "    </tr>\n",
       "    <tr>\n",
       "      <th>6</th>\n",
       "      <td>1</td>\n",
       "      <td>Juuuuuuuuuuuuuuuuussssst Chillin!!</td>\n",
       "      <td>juuuuuuuuuuuuuuuuussssst chillin ! !</td>\n",
       "      <td>1</td>\n",
       "    </tr>\n",
       "  </tbody>\n",
       "</table>\n",
       "</div>"
      ],
      "text/plain": [
       "       sentiment                                     message  \\\n",
       "22978          1  @_spell - you can do it! keep on truckin'    \n",
       "6              1          Juuuuuuuuuuuuuuuuussssst Chillin!!   \n",
       "\n",
       "                              cleaned_query  sentiment_id  \n",
       "22978     - you can do it ! keep on truckin             1  \n",
       "6      juuuuuuuuuuuuuuuuussssst chillin ! !             1  "
      ]
     },
     "execution_count": 10,
     "metadata": {},
     "output_type": "execute_result"
    }
   ],
   "source": [
    "# One Hot Encode the target variable\n",
    "data_df['sentiment_id'], sentiment_mappings = data_df['sentiment'].factorize()\n",
    "data_df.sample(2)"
   ]
  },
  {
   "cell_type": "code",
   "execution_count": 11,
   "metadata": {},
   "outputs": [],
   "source": [
    "# Initialize Term Frequency and Inverse Document Frequency to be used\n",
    "sentiment_tfidf = TfidfVectorizer(\n",
    "    sublinear_tf=True, min_df=5, norm='l2', \n",
    "    encoding='latin-1', ngram_range=(1, 2), \n",
    "    stop_words='english')"
   ]
  },
  {
   "cell_type": "code",
   "execution_count": 12,
   "metadata": {},
   "outputs": [],
   "source": [
    "# Extract the features from the text\n",
    "sentiment_features = sentiment_tfidf.\n",
    "fit_transform(data_df['message'])"
   ]
  },
  {
   "cell_type": "code",
   "execution_count": 13,
   "metadata": {},
   "outputs": [
    {
     "name": "stdout",
     "output_type": "stream",
     "text": [
      "  (0, 6891)\t0.6396745431181894\n",
      "  (0, 3165)\t0.7686458735246913\n",
      "  (1, 5388)\t0.33220054519149167\n",
      "  (1, 5607)\t0.27017696154676596\n",
      "  (1, 5453)\t0.41620455985250066\n",
      "  (1, 8164)\t0.438994505690865\n",
      "  (1, 5618)\t0.44697814581861317\n",
      "  (1, 5454)\t0.5009144964119193\n",
      "  (2, 5845)\t0.6566682222194433\n",
      "  (2, 138)\t0.7541795846661163\n",
      "  (3, 4119)\t0.3310383585144315\n",
      "  (3, 7355)\t0.29482378322308933\n",
      "  (3, 3612)\t0.3760688103242043\n",
      "  (3, 8434)\t0.21940341889172538\n",
      "  (3, 2338)\t0.3654774980484365\n",
      "  (3, 36)\t0.32551207994069087\n",
      "  (3, 4392)\t0.16124860934195148\n",
      "  (3, 2155)\t0.4111076852715473\n",
      "  (3, 4130)\t0.42353792397724305\n",
      "  (4, 7930)\t0.2510617513721877\n",
      "  (4, 5324)\t0.4600475910947654\n",
      "  (4, 1424)\t0.4334024559145169\n",
      "  (4, 1824)\t0.514779631823133\n",
      "  (4, 7730)\t0.5220042651101026\n",
      "  (5, 4392)\t0.4500785966897305\n",
      "  :\t:\n",
      "  (39891, 8627)\t0.242550105591907\n",
      "  (39891, 1758)\t0.2866907111182115\n",
      "  (39891, 4935)\t0.18970644528951536\n",
      "  (39891, 2090)\t0.3620282215078353\n",
      "  (39891, 3271)\t0.25248728959462996\n",
      "  (39891, 1081)\t0.38293758393201005\n",
      "  (39891, 7152)\t0.33358558483395573\n",
      "  (39891, 7600)\t0.34200982397239\n",
      "  (39891, 6152)\t0.328727492920181\n",
      "  (39891, 5717)\t0.38108012620002374\n",
      "  (39892, 8286)\t0.18404876797643988\n",
      "  (39892, 8393)\t0.20966805746011494\n",
      "  (39892, 4935)\t0.15497148306190517\n",
      "  (39892, 3826)\t0.21772175441896807\n",
      "  (39892, 6968)\t0.2314968772824158\n",
      "  (39892, 6969)\t0.3453636059227954\n",
      "  (39892, 3637)\t0.17827053246564817\n",
      "  (39892, 6586)\t0.23327569321415295\n",
      "  (39892, 5045)\t0.2576102865629164\n",
      "  (39892, 8294)\t0.3536578872770427\n",
      "  (39892, 8319)\t0.3098470932761837\n",
      "  (39892, 4378)\t0.32351548194045376\n",
      "  (39892, 8915)\t0.28337467769861197\n",
      "  (39892, 7117)\t0.3453636059227954\n",
      "  (39893, 4935)\t1.0\n"
     ]
    }
   ],
   "source": [
    "print(sentiment_features)"
   ]
  },
  {
   "cell_type": "code",
   "execution_count": 14,
   "metadata": {},
   "outputs": [],
   "source": [
    "# Extract the labels\n",
    "sentiment_labels = data_df['sentiment_id']"
   ]
  },
  {
   "cell_type": "code",
   "execution_count": 15,
   "metadata": {},
   "outputs": [
    {
     "name": "stdout",
     "output_type": "stream",
     "text": [
      "0        0\n",
      "1        0\n",
      "2        1\n",
      "3        0\n",
      "4        0\n",
      "5        0\n",
      "6        1\n",
      "7        0\n",
      "8        1\n",
      "9        1\n",
      "10       0\n",
      "11       1\n",
      "12       0\n",
      "13       0\n",
      "14       0\n",
      "15       0\n",
      "16       0\n",
      "17       1\n",
      "18       0\n",
      "19       0\n",
      "20       0\n",
      "21       0\n",
      "22       1\n",
      "23       0\n",
      "24       0\n",
      "25       0\n",
      "26       0\n",
      "27       0\n",
      "28       1\n",
      "29       0\n",
      "        ..\n",
      "39864    0\n",
      "39865    0\n",
      "39866    1\n",
      "39867    1\n",
      "39868    1\n",
      "39869    0\n",
      "39870    0\n",
      "39871    1\n",
      "39872    0\n",
      "39873    1\n",
      "39874    0\n",
      "39875    0\n",
      "39876    1\n",
      "39877    1\n",
      "39878    0\n",
      "39879    1\n",
      "39880    0\n",
      "39881    1\n",
      "39882    1\n",
      "39883    0\n",
      "39884    0\n",
      "39885    0\n",
      "39886    1\n",
      "39887    1\n",
      "39888    0\n",
      "39889    0\n",
      "39890    1\n",
      "39891    0\n",
      "39892    1\n",
      "39893    1\n",
      "Name: sentiment_id, Length: 39894, dtype: int64\n"
     ]
    }
   ],
   "source": [
    "print(sentiment_labels)"
   ]
  },
  {
   "cell_type": "code",
   "execution_count": 16,
   "metadata": {},
   "outputs": [
    {
     "data": {
      "text/plain": [
       "(39894, 9077)"
      ]
     },
     "execution_count": 16,
     "metadata": {},
     "output_type": "execute_result"
    }
   ],
   "source": [
    "# View the shape\n",
    "sentiment_features.shape"
   ]
  },
  {
   "cell_type": "code",
   "execution_count": 17,
   "metadata": {},
   "outputs": [],
   "source": [
    "# Initialize the algorithm that you will use\n",
    "sentiment_lsvc_model = LinearSVC()"
   ]
  },
  {
   "cell_type": "code",
   "execution_count": 18,
   "metadata": {},
   "outputs": [],
   "source": [
    "# split the dataset\n",
    "X_train, X_test, y_train, y_test, indices_train, \n",
    "indices_test = train_test_split(\n",
    "    sentiment_features, sentiment_labels, data_df.index, \n",
    "    test_size=0.33, random_state=12)"
   ]
  },
  {
   "cell_type": "code",
   "execution_count": 19,
   "metadata": {},
   "outputs": [
    {
     "data": {
      "text/plain": [
       "LinearSVC(C=1.0, class_weight=None, dual=True, fit_intercept=True,\n",
       "          intercept_scaling=1, loss='squared_hinge', max_iter=1000,\n",
       "          multi_class='ovr', penalty='l2', random_state=None, tol=0.0001,\n",
       "          verbose=0)"
      ]
     },
     "execution_count": 19,
     "metadata": {},
     "output_type": "execute_result"
    }
   ],
   "source": [
    "# Train the model\n",
    "sentiment_lsvc_model.fit(X_train, y_train)"
   ]
  },
  {
   "cell_type": "code",
   "execution_count": 20,
   "metadata": {},
   "outputs": [],
   "source": [
    "# Make predictions\n",
    "y_pred = sentiment_lsvc_model.predict(X_test)"
   ]
  },
  {
   "cell_type": "code",
   "execution_count": 21,
   "metadata": {},
   "outputs": [
    {
     "name": "stdout",
     "output_type": "stream",
     "text": [
      "              precision    recall  f1-score   support\n",
      "\n",
      "           0       0.71      0.69      0.70      6122\n",
      "           1       0.74      0.75      0.74      7044\n",
      "\n",
      "    accuracy                           0.72     13166\n",
      "   macro avg       0.72      0.72      0.72     13166\n",
      "weighted avg       0.72      0.72      0.72     13166\n",
      "\n"
     ]
    }
   ],
   "source": [
    "# View the classification report\n",
    "print((classification_report(y_test, y_pred)))"
   ]
  },
  {
   "cell_type": "code",
   "execution_count": 22,
   "metadata": {},
   "outputs": [
    {
     "data": {
      "text/plain": [
       "0.722391007139602"
      ]
     },
     "execution_count": 22,
     "metadata": {},
     "output_type": "execute_result"
    }
   ],
   "source": [
    "# Checking accuracy\n",
    "accuracy_score(y_test, y_pred)"
   ]
  },
  {
   "cell_type": "code",
   "execution_count": 23,
   "metadata": {},
   "outputs": [
    {
     "data": {
      "text/html": [
       "<div>\n",
       "<style scoped>\n",
       "    .dataframe tbody tr th:only-of-type {\n",
       "        vertical-align: middle;\n",
       "    }\n",
       "\n",
       "    .dataframe tbody tr th {\n",
       "        vertical-align: top;\n",
       "    }\n",
       "\n",
       "    .dataframe thead th {\n",
       "        text-align: right;\n",
       "    }\n",
       "</style>\n",
       "<table border=\"1\" class=\"dataframe\">\n",
       "  <thead>\n",
       "    <tr style=\"text-align: right;\">\n",
       "      <th></th>\n",
       "      <th>0</th>\n",
       "      <th>1</th>\n",
       "    </tr>\n",
       "  </thead>\n",
       "  <tbody>\n",
       "    <tr>\n",
       "      <th>0</th>\n",
       "      <td>4224</td>\n",
       "      <td>1898</td>\n",
       "    </tr>\n",
       "    <tr>\n",
       "      <th>1</th>\n",
       "      <td>1757</td>\n",
       "      <td>5287</td>\n",
       "    </tr>\n",
       "  </tbody>\n",
       "</table>\n",
       "</div>"
      ],
      "text/plain": [
       "      0     1\n",
       "0  4224  1898\n",
       "1  1757  5287"
      ]
     },
     "execution_count": 23,
     "metadata": {},
     "output_type": "execute_result"
    }
   ],
   "source": [
    "# View the confusion matrix\n",
    "pd.DataFrame(confusion_matrix(y_test, y_pred))"
   ]
  },
  {
   "cell_type": "code",
   "execution_count": 24,
   "metadata": {},
   "outputs": [],
   "source": [
    "# Test message\n",
    "test_message = [\"I am not so very good but i am ok\"]"
   ]
  },
  {
   "cell_type": "code",
   "execution_count": 25,
   "metadata": {},
   "outputs": [],
   "source": [
    "# Transform the message to a sparse matrix\n",
    "transformed_message=sentiment_tfidf.transform(test_message)"
   ]
  },
  {
   "cell_type": "code",
   "execution_count": 26,
   "metadata": {},
   "outputs": [],
   "source": [
    "# Make the prediction\n",
    "predicted_sentiment = sentiment_lsvc_model.predict(transformed_message)"
   ]
  },
  {
   "cell_type": "code",
   "execution_count": 27,
   "metadata": {},
   "outputs": [
    {
     "name": "stdout",
     "output_type": "stream",
     "text": [
      "[1]\n"
     ]
    }
   ],
   "source": [
    "# echo the prediction\n",
    "print(predicted_sentiment)"
   ]
  },
  {
   "cell_type": "code",
   "execution_count": 28,
   "metadata": {},
   "outputs": [
    {
     "name": "stdout",
     "output_type": "stream",
     "text": [
      "1\n"
     ]
    }
   ],
   "source": [
    "print(sentiment_mappings.take(predicted_sentiment)[0])"
   ]
  },
  {
   "cell_type": "markdown",
   "metadata": {},
   "source": [
    "## End"
   ]
  }
 ],
 "metadata": {
  "kernelspec": {
   "display_name": "Python 3",
   "language": "python",
   "name": "python3"
  },
  "language_info": {
   "codemirror_mode": {
    "name": "ipython",
    "version": 3
   },
   "file_extension": ".py",
   "mimetype": "text/x-python",
   "name": "python",
   "nbconvert_exporter": "python",
   "pygments_lexer": "ipython3",
   "version": "3.7.3"
  }
 },
 "nbformat": 4,
 "nbformat_minor": 2
}
