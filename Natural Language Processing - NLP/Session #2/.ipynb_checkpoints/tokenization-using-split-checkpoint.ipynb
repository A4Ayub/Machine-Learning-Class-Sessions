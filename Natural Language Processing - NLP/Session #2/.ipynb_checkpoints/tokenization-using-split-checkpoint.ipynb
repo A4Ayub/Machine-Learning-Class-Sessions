{
 "cells": [
  {
   "cell_type": "code",
   "execution_count": 1,
   "metadata": {},
   "outputs": [],
   "source": [
    "text = 'Artificial intelligence is based on the principle that human intelligence can be defined in a way that a machine can easily mimic it and execute tasks, from the most simple to those that are even more complex. The goals of artificial intelligence include learning, reasoning, and perception.'"
   ]
  },
  {
   "cell_type": "code",
   "execution_count": 2,
   "metadata": {},
   "outputs": [
    {
     "data": {
      "text/plain": [
       "'Artificial intelligence is based on the principle that human intelligence can be defined in a way that a machine can easily mimic it and execute tasks, from the most simple to those that are even more complex. The goals of artificial intelligence include learning, reasoning, and perception.'"
      ]
     },
     "execution_count": 2,
     "metadata": {},
     "output_type": "execute_result"
    }
   ],
   "source": [
    "text"
   ]
  },
  {
   "cell_type": "code",
   "execution_count": 3,
   "metadata": {},
   "outputs": [],
   "source": [
    "tokens = text.split()"
   ]
  },
  {
   "cell_type": "code",
   "execution_count": 4,
   "metadata": {},
   "outputs": [
    {
     "data": {
      "text/plain": [
       "['Artificial',\n",
       " 'intelligence',\n",
       " 'is',\n",
       " 'based',\n",
       " 'on',\n",
       " 'the',\n",
       " 'principle',\n",
       " 'that',\n",
       " 'human',\n",
       " 'intelligence',\n",
       " 'can',\n",
       " 'be',\n",
       " 'defined',\n",
       " 'in',\n",
       " 'a',\n",
       " 'way',\n",
       " 'that',\n",
       " 'a',\n",
       " 'machine',\n",
       " 'can',\n",
       " 'easily',\n",
       " 'mimic',\n",
       " 'it',\n",
       " 'and',\n",
       " 'execute',\n",
       " 'tasks,',\n",
       " 'from',\n",
       " 'the',\n",
       " 'most',\n",
       " 'simple',\n",
       " 'to',\n",
       " 'those',\n",
       " 'that',\n",
       " 'are',\n",
       " 'even',\n",
       " 'more',\n",
       " 'complex.',\n",
       " 'The',\n",
       " 'goals',\n",
       " 'of',\n",
       " 'artificial',\n",
       " 'intelligence',\n",
       " 'include',\n",
       " 'learning,',\n",
       " 'reasoning,',\n",
       " 'and',\n",
       " 'perception.']"
      ]
     },
     "execution_count": 4,
     "metadata": {},
     "output_type": "execute_result"
    }
   ],
   "source": [
    "tokens"
   ]
  }
 ],
 "metadata": {
  "kernelspec": {
   "display_name": "Python 3",
   "language": "python",
   "name": "python3"
  },
  "language_info": {
   "codemirror_mode": {
    "name": "ipython",
    "version": 3
   },
   "file_extension": ".py",
   "mimetype": "text/x-python",
   "name": "python",
   "nbconvert_exporter": "python",
   "pygments_lexer": "ipython3",
   "version": "3.7.3"
  }
 },
 "nbformat": 4,
 "nbformat_minor": 2
}
