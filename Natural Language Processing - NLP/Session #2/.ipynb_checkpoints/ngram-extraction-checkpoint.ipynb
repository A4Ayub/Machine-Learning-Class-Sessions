{
 "cells": [
  {
   "cell_type": "code",
   "execution_count": 1,
   "metadata": {},
   "outputs": [
    {
     "name": "stderr",
     "output_type": "stream",
     "text": [
      "[nltk_data] Downloading package wordnet to\n",
      "[nltk_data]     C:\\Users\\rodhiambo2\\AppData\\Roaming\\nltk_data...\n",
      "[nltk_data]   Package wordnet is already up-to-date!\n"
     ]
    },
    {
     "data": {
      "text/plain": [
       "True"
      ]
     },
     "execution_count": 1,
     "metadata": {},
     "output_type": "execute_result"
    }
   ],
   "source": [
    "import nltk\n",
    "nltk.download('wordnet') # Needed because we will require Lemmatizer"
   ]
  },
  {
   "cell_type": "code",
   "execution_count": 4,
   "metadata": {},
   "outputs": [],
   "source": [
    "from nltk import ngrams\n",
    "from collections import Counter # Combination of words plus their frequencies"
   ]
  },
  {
   "cell_type": "code",
   "execution_count": 5,
   "metadata": {},
   "outputs": [],
   "source": [
    "text = 'Artificial intelligence is based on the principle that human intelligence can be defined in a way that a machine can easily mimic it and execute tasks, from the most simple to those that are even more complex. The goals of artificial intelligence include learning, reasoning, and perception.'"
   ]
  },
  {
   "cell_type": "code",
   "execution_count": 6,
   "metadata": {},
   "outputs": [
    {
     "data": {
      "text/plain": [
       "Counter({('Artificial', 'intelligence'): 1,\n",
       "         ('intelligence', 'is'): 1,\n",
       "         ('is', 'based'): 1,\n",
       "         ('based', 'on'): 1,\n",
       "         ('on', 'the'): 1,\n",
       "         ('the', 'principle'): 1,\n",
       "         ('principle', 'that'): 1,\n",
       "         ('that', 'human'): 1,\n",
       "         ('human', 'intelligence'): 1,\n",
       "         ('intelligence', 'can'): 1,\n",
       "         ('can', 'be'): 1,\n",
       "         ('be', 'defined'): 1,\n",
       "         ('defined', 'in'): 1,\n",
       "         ('in', 'a'): 1,\n",
       "         ('a', 'way'): 1,\n",
       "         ('way', 'that'): 1,\n",
       "         ('that', 'a'): 1,\n",
       "         ('a', 'machine'): 1,\n",
       "         ('machine', 'can'): 1,\n",
       "         ('can', 'easily'): 1,\n",
       "         ('easily', 'mimic'): 1,\n",
       "         ('mimic', 'it'): 1,\n",
       "         ('it', 'and'): 1,\n",
       "         ('and', 'execute'): 1,\n",
       "         ('execute', 'tasks'): 1,\n",
       "         ('tasks', ','): 1,\n",
       "         (',', 'from'): 1,\n",
       "         ('from', 'the'): 1,\n",
       "         ('the', 'most'): 1,\n",
       "         ('most', 'simple'): 1,\n",
       "         ('simple', 'to'): 1,\n",
       "         ('to', 'those'): 1,\n",
       "         ('those', 'that'): 1,\n",
       "         ('that', 'are'): 1,\n",
       "         ('are', 'even'): 1,\n",
       "         ('even', 'more'): 1,\n",
       "         ('more', 'complex'): 1,\n",
       "         ('complex', '.'): 1,\n",
       "         ('.', 'The'): 1,\n",
       "         ('The', 'goals'): 1,\n",
       "         ('goals', 'of'): 1,\n",
       "         ('of', 'artificial'): 1,\n",
       "         ('artificial', 'intelligence'): 1,\n",
       "         ('intelligence', 'include'): 1,\n",
       "         ('include', 'learning'): 1,\n",
       "         ('learning', ','): 1,\n",
       "         (',', 'reasoning'): 1,\n",
       "         ('reasoning', ','): 1,\n",
       "         (',', 'and'): 1,\n",
       "         ('and', 'perception'): 1,\n",
       "         ('perception', '.'): 1})"
      ]
     },
     "execution_count": 6,
     "metadata": {},
     "output_type": "execute_result"
    }
   ],
   "source": [
    "# When good cleaning is done one should not see the stop words and/or punctuations\n",
    "Counter(ngrams(nltk.word_tokenize(text),2)) # Extract Bigrams"
   ]
  },
  {
   "cell_type": "code",
   "execution_count": 7,
   "metadata": {},
   "outputs": [
    {
     "data": {
      "text/plain": [
       "Counter({('Artificial', 'intelligence', 'is'): 1,\n",
       "         ('intelligence', 'is', 'based'): 1,\n",
       "         ('is', 'based', 'on'): 1,\n",
       "         ('based', 'on', 'the'): 1,\n",
       "         ('on', 'the', 'principle'): 1,\n",
       "         ('the', 'principle', 'that'): 1,\n",
       "         ('principle', 'that', 'human'): 1,\n",
       "         ('that', 'human', 'intelligence'): 1,\n",
       "         ('human', 'intelligence', 'can'): 1,\n",
       "         ('intelligence', 'can', 'be'): 1,\n",
       "         ('can', 'be', 'defined'): 1,\n",
       "         ('be', 'defined', 'in'): 1,\n",
       "         ('defined', 'in', 'a'): 1,\n",
       "         ('in', 'a', 'way'): 1,\n",
       "         ('a', 'way', 'that'): 1,\n",
       "         ('way', 'that', 'a'): 1,\n",
       "         ('that', 'a', 'machine'): 1,\n",
       "         ('a', 'machine', 'can'): 1,\n",
       "         ('machine', 'can', 'easily'): 1,\n",
       "         ('can', 'easily', 'mimic'): 1,\n",
       "         ('easily', 'mimic', 'it'): 1,\n",
       "         ('mimic', 'it', 'and'): 1,\n",
       "         ('it', 'and', 'execute'): 1,\n",
       "         ('and', 'execute', 'tasks'): 1,\n",
       "         ('execute', 'tasks', ','): 1,\n",
       "         ('tasks', ',', 'from'): 1,\n",
       "         (',', 'from', 'the'): 1,\n",
       "         ('from', 'the', 'most'): 1,\n",
       "         ('the', 'most', 'simple'): 1,\n",
       "         ('most', 'simple', 'to'): 1,\n",
       "         ('simple', 'to', 'those'): 1,\n",
       "         ('to', 'those', 'that'): 1,\n",
       "         ('those', 'that', 'are'): 1,\n",
       "         ('that', 'are', 'even'): 1,\n",
       "         ('are', 'even', 'more'): 1,\n",
       "         ('even', 'more', 'complex'): 1,\n",
       "         ('more', 'complex', '.'): 1,\n",
       "         ('complex', '.', 'The'): 1,\n",
       "         ('.', 'The', 'goals'): 1,\n",
       "         ('The', 'goals', 'of'): 1,\n",
       "         ('goals', 'of', 'artificial'): 1,\n",
       "         ('of', 'artificial', 'intelligence'): 1,\n",
       "         ('artificial', 'intelligence', 'include'): 1,\n",
       "         ('intelligence', 'include', 'learning'): 1,\n",
       "         ('include', 'learning', ','): 1,\n",
       "         ('learning', ',', 'reasoning'): 1,\n",
       "         (',', 'reasoning', ','): 1,\n",
       "         ('reasoning', ',', 'and'): 1,\n",
       "         (',', 'and', 'perception'): 1,\n",
       "         ('and', 'perception', '.'): 1})"
      ]
     },
     "execution_count": 7,
     "metadata": {},
     "output_type": "execute_result"
    }
   ],
   "source": [
    "Counter(ngrams(nltk.word_tokenize(text),3)) # Extract Trigrams"
   ]
  },
  {
   "cell_type": "code",
   "execution_count": null,
   "metadata": {},
   "outputs": [],
   "source": []
  },
  {
   "cell_type": "code",
   "execution_count": null,
   "metadata": {},
   "outputs": [],
   "source": []
  }
 ],
 "metadata": {
  "kernelspec": {
   "display_name": "Python 3",
   "language": "python",
   "name": "python3"
  },
  "language_info": {
   "codemirror_mode": {
    "name": "ipython",
    "version": 3
   },
   "file_extension": ".py",
   "mimetype": "text/x-python",
   "name": "python",
   "nbconvert_exporter": "python",
   "pygments_lexer": "ipython3",
   "version": "3.7.3"
  }
 },
 "nbformat": 4,
 "nbformat_minor": 2
}
